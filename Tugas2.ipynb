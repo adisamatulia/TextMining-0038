{
  "nbformat": 4,
  "nbformat_minor": 0,
  "metadata": {
    "colab": {
      "provenance": [],
      "collapsed_sections": []
    },
    "kernelspec": {
      "name": "python3",
      "display_name": "Python 3"
    },
    "language_info": {
      "name": "python"
    }
  },
  "cells": [
    {
      "cell_type": "code",
      "execution_count": 1,
      "metadata": {
        "colab": {
          "base_uri": "https://localhost:8080/"
        },
        "id": "biAl2bvMWZzW",
        "outputId": "ea2ff7e2-001e-4b7a-e398-2762d4343c7e"
      },
      "outputs": [
        {
          "output_type": "stream",
          "name": "stdout",
          "text": [
            "Looking in indexes: https://pypi.org/simple, https://us-python.pkg.dev/colab-wheels/public/simple/\n",
            "Collecting snscrape\n",
            "  Downloading snscrape-0.3.4-py3-none-any.whl (35 kB)\n",
            "Requirement already satisfied: lxml in /usr/local/lib/python3.7/dist-packages (from snscrape) (4.9.1)\n",
            "Requirement already satisfied: requests[socks] in /usr/local/lib/python3.7/dist-packages (from snscrape) (2.23.0)\n",
            "Requirement already satisfied: beautifulsoup4 in /usr/local/lib/python3.7/dist-packages (from snscrape) (4.6.3)\n",
            "Requirement already satisfied: idna<3,>=2.5 in /usr/local/lib/python3.7/dist-packages (from requests[socks]->snscrape) (2.10)\n",
            "Requirement already satisfied: urllib3!=1.25.0,!=1.25.1,<1.26,>=1.21.1 in /usr/local/lib/python3.7/dist-packages (from requests[socks]->snscrape) (1.24.3)\n",
            "Requirement already satisfied: certifi>=2017.4.17 in /usr/local/lib/python3.7/dist-packages (from requests[socks]->snscrape) (2022.9.24)\n",
            "Requirement already satisfied: chardet<4,>=3.0.2 in /usr/local/lib/python3.7/dist-packages (from requests[socks]->snscrape) (3.0.4)\n",
            "Requirement already satisfied: PySocks!=1.5.7,>=1.5.6 in /usr/local/lib/python3.7/dist-packages (from requests[socks]->snscrape) (1.7.1)\n",
            "Installing collected packages: snscrape\n",
            "Successfully installed snscrape-0.3.4\n"
          ]
        }
      ],
      "source": [
        "!pip install snscrape"
      ]
    },
    {
      "cell_type": "code",
      "source": [
        "pip install langdetect"
      ],
      "metadata": {
        "colab": {
          "base_uri": "https://localhost:8080/"
        },
        "id": "F7-rfinkW1w_",
        "outputId": "bc437bc4-be99-4fc9-a630-b3a6c9eab5b5"
      },
      "execution_count": 2,
      "outputs": [
        {
          "output_type": "stream",
          "name": "stdout",
          "text": [
            "Looking in indexes: https://pypi.org/simple, https://us-python.pkg.dev/colab-wheels/public/simple/\n",
            "Collecting langdetect\n",
            "  Downloading langdetect-1.0.9.tar.gz (981 kB)\n",
            "\u001b[K     |████████████████████████████████| 981 kB 6.8 MB/s \n",
            "\u001b[?25hRequirement already satisfied: six in /usr/local/lib/python3.7/dist-packages (from langdetect) (1.15.0)\n",
            "Building wheels for collected packages: langdetect\n",
            "  Building wheel for langdetect (setup.py) ... \u001b[?25l\u001b[?25hdone\n",
            "  Created wheel for langdetect: filename=langdetect-1.0.9-py3-none-any.whl size=993242 sha256=2eb6d8950e6dd2efc7e7060b42d8c2f66068f72952bdd297839304f0acf3672e\n",
            "  Stored in directory: /root/.cache/pip/wheels/c5/96/8a/f90c59ed25d75e50a8c10a1b1c2d4c402e4dacfa87f3aff36a\n",
            "Successfully built langdetect\n",
            "Installing collected packages: langdetect\n",
            "Successfully installed langdetect-1.0.9\n"
          ]
        }
      ]
    },
    {
      "cell_type": "code",
      "source": [
        "import snscrape.modules.twitter as sntwitter\n",
        "import json\n",
        "from langdetect import detect"
      ],
      "metadata": {
        "id": "w6RR05syXP32"
      },
      "execution_count": 3,
      "outputs": []
    },
    {
      "cell_type": "code",
      "source": [
        "keywords=['KDRT']\n",
        "start=\"2022–10–06\"\n",
        "end =\"2022–10–16\"\n",
        "max_num=100\n",
        "fname='tweet.json' \n",
        "languages=['id','en']"
      ],
      "metadata": {
        "id": "HkNouxDwZC7T"
      },
      "execution_count": 11,
      "outputs": []
    },
    {
      "cell_type": "code",
      "source": [
        "import pandas as pd\n",
        "datatw=[]"
      ],
      "metadata": {
        "id": "qOSeMDrMZh4b"
      },
      "execution_count": 12,
      "outputs": []
    },
    {
      "cell_type": "code",
      "source": [
        "for keyword in keywords:\n",
        "   \n",
        "    for i, tweet in enumerate (sntwitter.TwitterSearchScraper(f'{keyword} ').get_items()):\n",
        "        \n",
        "        try:\n",
        "            lan=detect(tweet.content)\n",
        "        except:\n",
        "            lan='error'\n",
        "        if i == max_num:\n",
        "            break\n",
        "        if lan in languages:\n",
        "            data = {'id': tweet.id, 'username':tweet.username, 'date': tweet.date, 'text': tweet.content,'url':tweet.url}\n",
        "           # print(data)\n",
        "            datatw.append(tweet.content)\n",
        "            with open(fname, 'a+', encoding='utf-8') as f:\n",
        "                line = json.dumps(data, ensure_ascii=False,default=str)\n",
        "                #print(line)\n",
        "                f.write(line)\n",
        "                f.write('\\n')"
      ],
      "metadata": {
        "id": "HFhQdCIaZon3"
      },
      "execution_count": 13,
      "outputs": []
    },
    {
      "cell_type": "code",
      "source": [
        "datatw"
      ],
      "metadata": {
        "colab": {
          "base_uri": "https://localhost:8080/"
        },
        "id": "B3fZQ57GZ8rA",
        "outputId": "310c7e80-1752-475a-e562-009a5a2286c0"
      },
      "execution_count": 14,
      "outputs": [
        {
          "output_type": "execute_result",
          "data": {
            "text/plain": [
              "['Pernah denger jg kabar , ada temen yg menjadi korban kdrt oleh suaminya, bahkan dari saat hamil, sampe melahirkan, dan sampai skrg, pada saat di tanya knp masih mempertahankan rumah tangganya, alasannya ya karena demi si Anak.',\n",
              " 'Lesti Kejora Cabut Laporan KDRT, Polisi : Proses Hukum Masih Berlanjut\\nhttps://t.co/8mYuZ2MNBp https://t.co/rGcK6H38mg',\n",
              " '@asanilta Ada juga korban KDRT yang akhirnya tidak kembali kepada keluarganya tapi kembali kepada Sang Khalik karena dibakar hidup2, dimutilasi, disiram air keras, dicor semen dsbnya oleh suaminya. Pelaku KDRT juga perlu terapi psikologis untuk kejiwaannya bukan hanya hukuman penjara.',\n",
              " 'KDRT, jangan berharap orang yg suka main fisik bakal berubah, itu tipuan.',\n",
              " 'Tak hanya dibanting dan dicekik! Ini 5 jenis KDRT yang perlu diketahui para istri https://t.co/69mFkVQe6L',\n",
              " 'Boxer pria harga murah bahan GK murahan\\n🌟4.9\\n📌https://t.co/Z6be3ng5v5\\n\\nTag\\nRambut/KDRT/Pagii/#motoGP #LISA #IkatanCintaEp913 https://t.co/tJ3pqXvnWm',\n",
              " 'Rizky Billar untuk pertama kalinya mengakui kesalahannya di depan publik.\\n\\nSimak infomasi selengkapnya pada video berikut ini!\\n\\n#Akuratco #AkuratcoVideo #KDRT #LestiKejora #RizkyBillar #Damai #Indonesia #Viral #beritahariini #beritaindonesia #beritaterbaru #beritaviral https://t.co/uSwbx1iqKk',\n",
              " 'Gak jarang juga KDRT malah yang lakuin si istri. Kalau seperti itu gimana coba?',\n",
              " 'PREDIKSI JITU HONGKONG 16 OKTOBER 2022 | ANGKA JITU HONGKONG HARI INI | BOCORAN TOGEL HK HARI INI\\n#ByeGubernurNgibul\\n#PerempuanDesa\\n#KDRT\\n#jennie\\n#London\\n#baekhyun\\n#LoveStory\\n#Malming\\n#BiroJomblo\\n#Minggu\\n#Malming https://t.co/TnhudmEybQ',\n",
              " 'PREDIKSI JITU SINGAPORE 16 OKTOBER 2022 | ANGKA JITU SINGAPORE HARI INI | BOCORAN TOGEL SGP HARI INI\\n#ByeGubernurNgibul\\n#PerempuanDesa\\n#KDRT\\n#jennie\\n#London\\n#baekhyun\\n#LoveStory\\n#Malming\\n#BiroJomblo\\n#Minggu\\n#Malming https://t.co/ZirJkzwxXV',\n",
              " 'PREDIKSI JITU SYDNEY 16 OKTOBER 2022 | ANGKA JITU SYDNEY HARI INI | BOCORAN TOGEL SYDNEY HARI INI\\n#ByeGubernurNgibul\\n#PerempuanDesa\\n#KDRT\\n#jennie\\n#London\\n#baekhyun\\n#LoveStory\\n#Malming\\n#BiroJomblo\\n#Minggu\\n#Malming https://t.co/gxZW0l0eSy',\n",
              " 'Ternyata ada ketakutan Lesti Kejora sebelum akhirnya memutuskan untuk mencabut laporan KDRT. Apa itu? https://t.co/9VYO4Swwfx',\n",
              " 'Dari sini untuk kesekian kali..! Sama sama belajar untuk, abaikan urusan orang. (Aku yg pernah dicurahatin orang KDRT/selingkuh) terus baikan lagi. Ambyaarr 😁 https://t.co/Qmp5155JC4',\n",
              " 'Sejak munculnya berita KDRT masih diem gak mau support karna firasatku bakalan ada plot twist. Dan ternyata benar plost twist. 😆 https://t.co/ki8wyGJ3KL',\n",
              " 'untuk pelaku KDRT semoga kalendermu tidak ada tanggal merah\\n\\nleslar\\nrizky billar\\n1,1 M https://t.co/YBOm8vfbti',\n",
              " 'Crop Top Zebra🛒\\n📍30 ribuan\\n📎https://t.co/f0paTaGQdJ\\n\\nTags. Tiara . Makasih Mas . Malming . KDRT . Rambut . El Clasico . Ahok . Pribumi . Aipda HR . #ByeGubernurNgibul #NgeriNgeriSedap #PerempuanDesa #BTSYetToComeinBusan https://t.co/hjRVaeGlR3',\n",
              " '@MataNajwa 2022 Rubah Mindset yuk, KDRT adalah khasus sensitif yg serius dan perlu dilaporkan ke pihak hukum. Bukan karena sebab akan berdampak pada perceraian tapi dampak trauma psikologis sngt besar. Bagi yg punya anak cowok. Please mom Raise your child well. ajarkan mrk baik sm prmpuan.',\n",
              " '@inemnextdoor lah, Indosiar aja mecat Billar dari Dangdut Academy bahkan sebelum dia ditetapin tersangka dan baru rumor doang dia kdrt. Jadi Indosiar udh nerapin future cancel culture rumour based only dong',\n",
              " '@MataNajwa Memaafkan itu baik..orang bisa berubah tapi perlu proses..klu lesti rujuk kembali dgn billar berarti dia siap hadapi konsekuensi2 berikutnya..semoga tdk terjadi lg kdrt jilid 2 trus lapor2in polisi lagi..',\n",
              " 'Rizky Billar Lesti Kejora masih jadi buah bibir tanah air, apalagi para penggemar mereka. Hal ini terkait laporan KDRT yang dicabut Lesti Kejora, dan mengundang komentar beragam dari masyarakat. https://t.co/GfUBJYQY19',\n",
              " '#KDRT #LestiKejora #LestiKDRT #janjicinta #ikatancinta #rizkibillar #minggu \\n\\n\"5 Janji Rizki Billar kepada sang Istri\"\\nhttps://t.co/1dW5uR0sSv https://t.co/viIEjanamd',\n",
              " '@Danki_Cebong Ke depan akan makin sakit..\\nKarier bs merosot..\\nKDRT dan selingkuh bs terjadi lg..',\n",
              " '@nappunyon @dhilun @asanilta Ternyata apa? Spil donk ga kuat bgt nonton yg sedih2 berat gitu. Sejujurnya aku paham ga paham sih sm korban KDRT',\n",
              " 'Tapi Lesti dah di KDRT 10x loh mba... Mirisssss https://t.co/ocsCl2WSCu',\n",
              " '@txtdrimedia Ga ada kdrt dan slingkuh itu khilaf ya bro semua dengan kesadaran',\n",
              " 'Giwangkara: Kocak! Parodi Rizky Billar Ditahan Gegara KDRT Pada Lesti Kejora Versi Korea Sunda oleh Kang Deon - Giwangkara.\\nhttps://t.co/U2GYu6yJBi\\n\\nmelalui @GoogleNews',\n",
              " 'Rizky Billar Diduga Lakukan KDRT ke Lesti Kejora Lebih Dari Satu Kali\\nhttps://t.co/2aRihjMp3Q https://t.co/LMzffjkO8E',\n",
              " 'KPI melarang pelaku kDRT untuk tampil di TV saat kasus yang menjerat Rizky Billar mencuat. #kumparanhits https://t.co/7vySvMtYVZ',\n",
              " 'KDRT siapapun yg mngalami nya,langkah pertama yg hrs di lakukan korban adalh; tenangin diri,stelah kamu tenang dan bsa berpikir jernih,langkah selanjutnya datangi psikolog atau pembimbing kerohanian kamu.',\n",
              " '@convomf kdrt dan kekerasan seksual pada perempuan',\n",
              " 'Sebut Pimpinannya Korupsi. Anggota Polres Luwu Coret-coret Tembok Kantor dan Minta Kapolri Turun Tangan\\nhttps://t.co/js59KQE9wT\\nKDRT',\n",
              " '🔥REKOMENDASI HOODIE POLOS HARI INI !!!🔥\\n\\n1. https://t.co/89CJIPkRMY\\n2. https://t.co/rAaJ1YhyfP\\n3. https://t.co/VQWrQS4Pyi\\n4. https://t.co/tiAQ7pGHrL\\n\\nBoleh nih jadi rekomendasi...\\nSave dulu aja 🤭\\n\\n#PerempuanDesa #makasihmas #KDRT #ByeGubernurNgibul #siang https://t.co/mgtn7XE1Nd',\n",
              " 'Pembatasan aktivitas yg tidak wajar juga merupakan KDRT ya 🙃🙃 https://t.co/VtbwZI8jEM',\n",
              " 'Berisik, opinilu jelek. Masalah keluarga kalo udah sampe KDRT kalo lu orang bisa mikir ya bantu lah. At least bukan solve their problem tapi lindungin yg lemah, hub lembaga yg bisa bantu nyelesain masalah mereka. Bukan malah dibiarin \"itu ranah privat\" https://t.co/LpnsYnjAke',\n",
              " 'Tentang Restorative Justice dalam Kasus KDRT Rizky\\xa0Billar https://t.co/WmtjINaOV6',\n",
              " 'Drama KDRT Rizky Billar Berujung Antiklimaks: Laporan Dicabut Lesti https://t.co/UuOHj0J0Py',\n",
              " 'Gritte Agatha Hormati Pilihan Lesti Kejora Cabut Laporan KDRT: Setiap Orang Berbeda \\n\\n#CelebritiesDotID #InfoCelebTerkini \\nhttps://t.co/0RZfqVZg5n',\n",
              " 'Cot, bukan korban kdrt gak usah komen https://t.co/iR7fGiPK49',\n",
              " 'Aku pernah di posisi di kasarin laki ex boyfriend tp bukan KDRT karna belum nikah :( walaupun ga dipukul fisik apalagi di samekdown kaya dede emes tp anjirrrr sakit hatinya dan takutnya dalem bgt karna dilempar botol minum berkali2, dilempar hp di anjing anjing ngomongnya :(',\n",
              " 'Kasus KDRT Lesti Kejora-Rizki Billar Berujung Damai, Warganet: lebih gila dari Baim Wong https://t.co/DJ84M72rtQ',\n",
              " 'Amiin, Doa ku pagi ini semoga dpt jodoh yg baik setia, baik ahlaknya dan sayang ma keluarga dan dpt mertua yg baik Amiin \\nOrang ganteung mah banyak Tapi yg ganteung hatinya &amp; baik \\ndi dunia ni  1:1000 \\n\\nSemoga di jauhkan dari cowok yg kang selingkuh dan KDRT Amiin ya Allah 😌 https://t.co/TCGgLP57zg',\n",
              " 'Pelajarannya adlh kalo ribut diem aja jgn ada org lain yg tau. Kalo ada kdrt coba pisah rmh. Diskusi dgn keluarga apabila pasangan kamu udh kyk arca kuno jaman pra sejarah. Lapor polisi bkn solusi. Pisah/kembali bersama adlh keputusan yg lbh sulit drpd saat awal menikah.',\n",
              " 'Lo pada musti nonton darlings di netflix deh. Biar at least ngerti apa yang dirasain korban kdrt dan bagaimana cara pelaku memanipulasi keadaan. Hobi kok jadi judgemental untuk para korban',\n",
              " '@hi_najaemine @AleaAcaciaaa @csancious @eros0219 @ae_straunot Padahal menurut gua Allah udah ngasih petunjuk kalo billar itu gk baik lwt kasus kdrt ini',\n",
              " 'Kasus KDRT Lesti Kejora-Rizki Billar Berujung Damai, Warganet: lebih gila dari Baim Wong https://t.co/wj0k1UNZsT',\n",
              " 'Kasus KDRT Lesti Kejora-Rizki Billar Berujung Damai, Warganet: lebih gila dari Baim Wong https://t.co/8eXdamR4QS',\n",
              " 'Lika-Liku Drama KDRT Leslar: Tangisan Lesti, Rizky Billar Jadi Tersangka hingga Leslar Rujuk https://t.co/VuWf15cnpa',\n",
              " '@tanyakanrl Support systemnya berfikir \"KDRT itu biasa {pdhl dicekik dibanting}\"\"salah kamu sih, makanya dia gitu\"\"kalo kamu cerai, gimana anakmu?\"\"nanti dia tobat kok{pdhl uda 1o kali}\" ya tambah susah lepas. Pdhl dgn support system yg bagus aja susah lepas, aplg klo dia merasa sendir',\n",
              " '@convomf Isu dana pensiun asn beratkan beban apbn, terkait kinerja polisi mungkin bisa nder (u know lah, ada byk kasus), kdrt jga bisa (keknya di pandemic kekerasan pda perempuan tuh meningkat) dlu w sempet mau ambil topik ini buat tgs policy brief',\n",
              " 'Kasus KDRT Lesti Kejora-Rizki Billar Berujung Damai, Warganet: lebih gila dari Baim Wong https://t.co/6ftDWn0eUC',\n",
              " 'Napa serang gw netijen nih Gw (KPI) ane uda tegesin Pelaku KDRT ane larang tampil di TV termasuk si Leslar keduanya public figur yg ga patut dicontoh generasi muda Selebrity. https://t.co/lgwTTtkxjk',\n",
              " '@txtdrimedia bntar lagi juga jadi duta kepala keluarga nasional atau duta anti kdrt',\n",
              " 'Pedangdut Lesti Kejora akhirnya mencabut laporan kekerasan dalam rumah tangga (KDRT) yang dilayangkan pada Rizky Billar sebelumnya. https://t.co/meiZNFl9Pb',\n",
              " 'Kasus KDRT Lesti Kejora-Rizki Billar Berujung Damai, Warganet: lebih gila dari Baim Wong https://t.co/98KxfcGOkX',\n",
              " 'KDRT : Kedamaian Dalam Rumah Tangga',\n",
              " '@TerrificJRP9 @piggydeath2 @idextratime Udah ada kan, itu yg kasus kdrt tiba2 cabut laporan 😅',\n",
              " 'Penggiat anti KDRT .. cek .. https://t.co/tCmAKvSGTV',\n",
              " 'Pas banget cuaca kayak gini crott bareng kamu\\nTag Vcs Minggu #NgeriNgeriSedap KDRT #PerempuanDesa Pagii Sarapan https://t.co/bby5onflWz',\n",
              " 'Rekomendasi rak makeup dan skincare under 50K🤑\\n\\n1.https://t.co/1EzLFff39C\\n2.https://t.co/0bwqW6WZYd\\n3.https://t.co/8VbUd96xoi\\n4.https://t.co/e96EqYtP0E\\n\\n#ByeGubernurNgibul #PerempuanDesa London Jennie #JISOO #LISA Chanwoo #LoveStory KDRT Pagiii Rambut Run Bts Chenle Winwin https://t.co/hxXloSAzeT',\n",
              " 'jangan mau sama orang yang track recordnya pernah selingkuh atau pernah KDRT. percayalah, sampe kapanpun dia gak akan bisa berubah.\\n#pengalaman',\n",
              " 'Cinta Menurut Islam; Definisi, Dalil dan Bentuknya\\nBaca 👉 https://t.co/CRcEfylnBA\\n.\\nTrend 🚀 Alhamdulillah Tiara Ahok London #PerempuanDesa Rambut Makasih Mas Yaman Pagi-pagi Malming #PanglimaSantriUntukNegeri Lombok #BiroJomblo Narkoba KDRT Mowning Pagiii Phobia Minggu. https://t.co/DhCSavxn4Y',\n",
              " 'Pas banget cuaca kayak gini crott bareng kamu\\nTag Vcs Minggu #NgeriNgeriSedap KDRT #PerempuanDesa Pagii Sarapan https://t.co/R5kaXTV0Tc',\n",
              " 'Phobia Adalah: Definisi, Gejala, Penyebab, Hingga Pengobatan\\nTren Twitter: Phobia, Rambut #PerempuanDesa , Narkoba, KDRT, #NgeriNgeriSedap , Sarapan Safari Panglima Santri\\nhttps://t.co/ghV6TiPjC8',\n",
              " 'Orang orang yg nyalahin lesti karena cabut laporan, apa ga inget kalo sedari awal yg lapor polisi tuh bokapnya bukan lesti sendiri\\n\\nKok enteng bgt ngatain korban kdrt pake sebutan tolol. Dikira keluar dari toxic relationship semudah membalikkan telapak tangan, no. Doain aja lah~',\n",
              " 'Di video terbahak bahak seolah olah mengejek nitizen, pelaku KDRT beserta karyawan nya sangat Bangga melakukan hal itu. \\n\\nKaryawan di belakangnya pun mengiyakan dan mendukung. Kalau tak mendukung konten yang di buat, mereka mau makan apa? Mereka dapat makan cuma dari Leslar .',\n",
              " 'Lesti Kejora Cabut Laporan KDRT Rizky Billar, Denny Sumargo ke Dokter Richard Lee: Lu Ngerasa Kena Prank? https://t.co/gRvR4EXdLO https://t.co/W9My6Xodz8',\n",
              " 'Nduwe konco kok seneng bgt nangan babi Ya Allah, pdhl KTP ne Islam',\n",
              " '@detikcom Hrs memang, kayaknya si Billar agak2 sakit jiwa KDRT jgn dianggap remeh',\n",
              " '@TongHilap_KDRT Selamatt',\n",
              " 'dulu wkt aku masih sd, mama papa aku sering berantem dan papa aku tiap berantem selalu ngelakuin KDRT, tiap ngelakuin didamai-in sama pendeta yg ke rumah, tapi ya tetep ke ulang juga kalo berantem. sampe di titik mama aku bikin perjanjian kalo sekali lagi main tangan bakal cerai',\n",
              " \"@Luckymtsn7 Mbak Inul (kalo liat Mas Adam) jauh dari KDRT. Makanya bisa bicara 'bijak' seperti itu. Kalau ada di posisi korban, mungkin beda lagi statementnya\",\n",
              " 'Minimal laki2 satu ini ngaca dulu sih sblm komen. \\nGk masalah istrinya lapor polisi supaya suaminya juga bsa mikir kalau istrinya brani untuk laporkan dirinya kalau ada kdrt.\\n\\nNanti kalau semisalnya kena kdrt dan uda capek juga gk akan dicabut laporannya. https://t.co/22esGbWTfa https://t.co/CY5P5BGFo5',\n",
              " '@_ekokuntadhi klo sy presidenya, \\npelaku KDRT brni2 libatkan saya, besoknya hilang\\nuntuk sy bukan presiden wkwkw',\n",
              " 'Ngeri-ngeri sedap full movie\\n📎https://t.co/ypCjpPwmTK\\n\\nRatu Tisha #NgeriNgeriSedap #BiroJomblo #LoveStory #PerempuanDesa London Rambut KDRT Malming #ByeGubernurNgibul jennie #IkatanCintaEp913 jisoo PRETTY BUNNY SOODAM Minggu Young Forever https://t.co/bglJkZArYV',\n",
              " 'I joined EverLandDao x DeBox strategic cooperation Campaign on SoQuest, the web3 real time go-to quest platform https://t.co/pRRLhphftd\\n#KDRT',\n",
              " 'Lesti Kejora resmi mencabut laporan KDRT yang dilakukan Rizky Billar pada Kamis (13/10/2022).Diketah  #berita #gosip  https://t.co/Y0J2TnjQrS',\n",
              " 'Alhamdulillah .. Barakallah .. Lagii weekend dikasih rezeki .. Ganti usn langsung kena notice .. Next dapat BIGWIN hari ini .. Aamiin🤲🏻❤ https://t.co/dMocw8Qr6A',\n",
              " 'Dan kekecewaan emak emak bertambah, ketika Lesti dan bala kurawanya membuat video yang mengatakan bahwa \"nitizen, Lo jangan sok tau\". Pelaku KDRT bebas lalu terbahak bahak di video tersebut. \\n\\nKan anjing bangged kata mang Ule yang sudah ngga terkenal.',\n",
              " 'Sejumlah pesohor mengaku pernah mengalami KDRT. Beberapa di antaranya berani membawanya ke jalur hukum. https://t.co/kOsOSVFWmX',\n",
              " '@opipetsgame @Prank_Kdrt @semangatatan @lelah_lillahwin',\n",
              " 'Temen gue pengen cerai aja gabisa. Padahal suaminya sering banget KDRT. https://t.co/HwdOVxnF3T',\n",
              " 'Tanda Lingkaran Putus atau Ikon Bulat di WhatsApp, Begini Fungsi dan Arti Fitur WA | Tiara | #ByeGubernurNgibul | KDRT https://t.co/5WsEvG26G3',\n",
              " 'Penyebab Korban KDRT Sulit Lepaskan Pelaku https://t.co/UgkCMUCoam',\n",
              " 'Apa yg dilakukan Billar sebenernya sii gk sepantesnya dimaafkn gitu aja, krna PERSELINGKUHAN dan KDRT itu 2hal yg dilakukan atas kesadaran penuh bukan khilaf',\n",
              " 'KDRT #KDRT https://t.co/qiyozxYls3',\n",
              " 'Masa jabatan Gubernur DKI Jakarta Anies Baswedan dan Wagub Ahmad Riza Patria berakhir hari ini, Minggu 16 Oktober 2022.\\nhttps://t.co/oECtG8AKll\\n#ByeGubernurNgibul Ahok KDRT Narkoba Rambut',\n",
              " '@seroja_merah Hmmm skrg merambah dunia perartisan bidang KDRT to',\n",
              " '@VIVAcoid Smoga smua yg udah terjadi kmrn2 itu bukan setingan ya lesti @Lesti_Jenong_DA . Kirain bakal jd duta kdrt beneran..  Ternyataaa... Huh..',\n",
              " 'Sebelum KDRT bljr kasih sayang sama burung sana https://t.co/DIcOD9o7lR',\n",
              " '@babecabiita KDRT tuh kriminal cuk. Bedain sama case suami kaga romantis/pelit terus istri ngeluh. Nah yang gitu2 yg ga boleh dl diceritain ke orang',\n",
              " '@kemalpalevi KDRT bukan urusan internal rumah tangga. KDRT merupakan urusan publik, negara juga sudah membuat UU KDRT sejak lama.',\n",
              " 'Para fans Lesti Kejora dan Rizky Billar pasti banyak yang kecewa setelah putri suku Sunda mencabut laporan atas kasus KDRT yang di terima. Emak emak seluruh suku di Indonesia banyak yang bikin video kekecewaan terhadap keputusan Lesti.',\n",
              " '#ByeGubernurNgibul\\n\\nCabut Laporan KDRT Hingga Memaafkan, Ini Kabar Lesti Kejora Terbaru, Kembali Bersama dan Satu Rumah?\\n\\nhttps://t.co/JXa6YjUlxJ',\n",
              " 'manusia indonesia smang tolol se tolol tolol nya nanggepin pelakor kdrt dll. kocak. gws https://t.co/iLEB0gV340',\n",
              " '@VIVAcoid Lah elu yang caper markonah....ngapain juga pake lapor polisi kalo ga mau ornag lain tau masalah idup lu..... entar lu kdrt lagi ga usah ngadu Ono ini....buat nyari simpati publik udah males tau ko']"
            ]
          },
          "metadata": {},
          "execution_count": 14
        }
      ]
    },
    {
      "cell_type": "code",
      "source": [
        "pip install Sastrawi"
      ],
      "metadata": {
        "colab": {
          "base_uri": "https://localhost:8080/"
        },
        "id": "ftR8-HZAamRK",
        "outputId": "98a4a25d-a7f6-4d80-db6b-1cb19332b49e"
      },
      "execution_count": 16,
      "outputs": [
        {
          "output_type": "stream",
          "name": "stdout",
          "text": [
            "Looking in indexes: https://pypi.org/simple, https://us-python.pkg.dev/colab-wheels/public/simple/\n",
            "Requirement already satisfied: Sastrawi in /usr/local/lib/python3.7/dist-packages (1.0.1)\n"
          ]
        }
      ]
    },
    {
      "cell_type": "code",
      "source": [
        "import re\n",
        "import string\n",
        "from Sastrawi.Stemmer.StemmerFactory import StemmerFactory# create stemmer\n",
        "factory = StemmerFactory()\n",
        "stemmer = factory.create_stemmer()# stemming process\n",
        "# import StopWordRemoverFactory class\n",
        "from Sastrawi.StopWordRemover.StopWordRemoverFactory import StopWordRemoverFactory\n",
        "factory = StopWordRemoverFactory()\n",
        "stopword = factory.create_stop_word_remover()\n",
        "documents_clean=[]\n",
        "\n",
        "for d in datatw:\n",
        "    outputstem= stemmer.stem(d)\n",
        "    d= stopword.remove(outputstem)\n",
        "    # Remove Unicode\n",
        "    document_test = re.sub(r'[^\\x00-\\x7F]+', ' ', d)\n",
        "    # Remove Mentions\n",
        "    document_test = re.sub(r'@\\w+', '', document_test)\n",
        "    # Lowercase the document\n",
        "    document_test = document_test.lower()\n",
        "    # Remove punctuations\n",
        "    document_test = re.sub(r'[%s]' % re.escape(string.punctuation), ' ', document_test)\n",
        "    # Lowercase the numbers\n",
        "    document_test = re.sub(r'[0-9]', '', document_test)\n",
        "    # Remove the doubled space\n",
        "    outputstop = re.sub(r'\\s{2,}', ' ', document_test)\n",
        "    documents_clean.append(outputstop)"
      ],
      "metadata": {
        "id": "7TAY1QFza9OX"
      },
      "execution_count": 17,
      "outputs": []
    },
    {
      "cell_type": "code",
      "source": [
        "documents_clean[0:5]"
      ],
      "metadata": {
        "colab": {
          "base_uri": "https://localhost:8080/"
        },
        "id": "hnMw8fizbFsc",
        "outputId": "192f4af7-95a5-4960-b53c-ad9dbec1b1b8"
      },
      "execution_count": 18,
      "outputs": [
        {
          "output_type": "execute_result",
          "data": {
            "text/plain": [
              "['pernah denger jg kabar temen yg jadi korban kdrt suami bahkan saat hamil sampe lahir sampai skrg saat tanya knp tahan rumah tangga alas karena si anak',\n",
              " 'lesti kejora cabut lapor kdrt polisi proses hukum lanjut https t co myuzmnbp https t co rgckhmg',\n",
              " 'asanilta korban kdrt akhir kembali keluarga kembali sang khalik bakar hidup mutilasi siram air keras cor semen dsbnya suami laku kdrt juga perlu terapi psikologis jiwa bukan hukum penjara',\n",
              " 'kdrt jangan harap orang yg suka main fisik bakal ubah tipu',\n",
              " 'tak banting cekik jenis kdrt perlu tahu istri https t co mfkvqel']"
            ]
          },
          "metadata": {},
          "execution_count": 18
        }
      ]
    },
    {
      "cell_type": "code",
      "source": [
        "from sklearn.feature_extraction.text import TfidfVectorizer\n",
        "import pandas as pd\n",
        "tfidfvectorizer = TfidfVectorizer(analyzer='word')\n",
        "tfidf_wm = tfidfvectorizer.fit_transform(documents_clean)\n",
        "tfidf_tokens = tfidfvectorizer.get_feature_names()"
      ],
      "metadata": {
        "colab": {
          "base_uri": "https://localhost:8080/"
        },
        "id": "vyMqvU3u0YzN",
        "outputId": "e2e7d3cb-1a97-45c1-f6d3-ba4d3b100164"
      },
      "execution_count": 19,
      "outputs": [
        {
          "output_type": "stream",
          "name": "stderr",
          "text": [
            "/usr/local/lib/python3.7/dist-packages/sklearn/utils/deprecation.py:87: FutureWarning: Function get_feature_names is deprecated; get_feature_names is deprecated in 1.0 and will be removed in 1.2. Please use get_feature_names_out instead.\n",
            "  warnings.warn(msg, category=FutureWarning)\n"
          ]
        }
      ]
    },
    {
      "cell_type": "code",
      "source": [
        "from sklearn.feature_extraction.text import CountVectorizer \n",
        "import matplotlib.pyplot as plt\n",
        "import numpy as np # linear algebra\n",
        "import pandas as pd # data processing, CSV file I/O (e.g. pd.read_csv)\n",
        "cv = CountVectorizer()\n",
        "words = cv.fit_transform(documents_clean)\n",
        "sum_words = words.sum(axis=0)\n",
        "\n",
        "\n",
        "words_freq = [(word, sum_words[0, idx]) for word, idx in cv.vocabulary_.items()]\n",
        "words_freq = sorted(words_freq, key = lambda x: x[1], reverse = True)\n",
        "frequency = pd.DataFrame(words_freq, columns=['word', 'freq'])\n",
        "\n",
        "color = plt.cm.twilight(np.linspace(0, 1, 20))\n",
        "frequency.head(20).plot(x='word', y='freq', kind='bar', figsize=(15, 7), color = color)\n",
        "plt.title(\"Most Frequently Occuring Words - Top 20\")"
      ],
      "metadata": {
        "colab": {
          "base_uri": "https://localhost:8080/",
          "height": 562
        },
        "id": "8aI9jKmx0hRb",
        "outputId": "04b5529d-1618-42b3-b443-9d1e67c29c90"
      },
      "execution_count": 20,
      "outputs": [
        {
          "output_type": "execute_result",
          "data": {
            "text/plain": [
              "Text(0.5, 1.0, 'Most Frequently Occuring Words - Top 20')"
            ]
          },
          "metadata": {},
          "execution_count": 20
        },
        {
          "output_type": "display_data",
          "data": {
            "text/plain": [
              "<Figure size 1080x504 with 1 Axes>"
            ],
            "image/png": "[encoded data removed]"
          },
          "metadata": {
            "needs_background": "light"
          }
        }
      ]
    },
    {
      "cell_type": "code",
      "source": [
        "from sklearn.cluster import KMeans\n",
        "true_k = 3\n",
        "model = KMeans(n_clusters=true_k, init='k-means++', max_iter=100, n_init=1)\n",
        "model.fit(words)"
      ],
      "metadata": {
        "colab": {
          "base_uri": "https://localhost:8080/"
        },
        "id": "uFoeoBRu0vzy",
        "outputId": "6fb14ce5-7a19-4fab-d555-07f101f4a2a6"
      },
      "execution_count": 21,
      "outputs": [
        {
          "output_type": "execute_result",
          "data": {
            "text/plain": [
              "KMeans(max_iter=100, n_clusters=3, n_init=1)"
            ]
          },
          "metadata": {},
          "execution_count": 21
        }
      ]
    },
    {
      "cell_type": "code",
      "source": [
        "order_centroids = model.cluster_centers_.argsort()[:, ::-1]\n",
        "terms = cv.get_feature_names()\n",
        "\n",
        "for i in range(true_k):\n",
        "    print(\"Cluster %d:\" % i),\n",
        "    for ind in order_centroids[i, :10]:\n",
        "        print(' %s' % terms[ind]),\n",
        "    print\n",
        "\n",
        "print(\"\\n\")"
      ],
      "metadata": {
        "colab": {
          "base_uri": "https://localhost:8080/"
        },
        "id": "AgVteCEu00Q8",
        "outputId": "f4746848-30fc-422d-dc78-9745be5da4e1"
      },
      "execution_count": 22,
      "outputs": [
        {
          "output_type": "stream",
          "name": "stdout",
          "text": [
            "Cluster 0:\n",
            " kdrt\n",
            " kembali\n",
            " jiwa\n",
            " khalik\n",
            " korban\n",
            " terapi\n",
            " bakar\n",
            " siram\n",
            " sang\n",
            " mutilasi\n",
            "Cluster 1:\n",
            " video\n",
            " kata\n",
            " emak\n",
            " bahak\n",
            " anjing\n",
            " ule\n",
            " kenal\n",
            " mang\n",
            " sebut\n",
            " kecewa\n",
            "Cluster 2:\n",
            " kdrt\n",
            " https\n",
            " co\n",
            " yg\n",
            " lesti\n",
            " billar\n",
            " lapor\n",
            " kejora\n",
            " cabut\n",
            " laku\n",
            "\n",
            "\n"
          ]
        },
        {
          "output_type": "stream",
          "name": "stderr",
          "text": [
            "/usr/local/lib/python3.7/dist-packages/sklearn/utils/deprecation.py:87: FutureWarning: Function get_feature_names is deprecated; get_feature_names is deprecated in 1.0 and will be removed in 1.2. Please use get_feature_names_out instead.\n",
            "  warnings.warn(msg, category=FutureWarning)\n"
          ]
        }
      ]
    },
    {
      "cell_type": "code",
      "source": [
        "import scipy.cluster.hierarchy as sch\n",
        "X = cv.fit_transform(documents_clean).todense()\n",
        "dendrogram = sch.dendrogram(sch.linkage(X, method = 'ward',metric='euclidean'),orientation=\"top\")\n",
        "plt.title('Dendrogram')\n",
        "plt.xlabel('Jarak Ward')\n",
        "plt.ylabel('Nomor Dokumen')\n",
        "plt.show()"
      ],
      "metadata": {
        "colab": {
          "base_uri": "https://localhost:8080/",
          "height": 292
        },
        "id": "ZMD_Ymcu1Awz",
        "outputId": "82f49e26-e7ef-4cf8-ea60-4cb05bc06ece"
      },
      "execution_count": 23,
      "outputs": [
        {
          "output_type": "display_data",
          "data": {
            "text/plain": [
              "<Figure size 432x288 with 1 Axes>"
            ],
            "image/png": "[encoded data removed]"
          },
          "metadata": {
            "needs_background": "light"
          }
        }
      ]
    },
    {
      "cell_type": "code",
      "source": [
        "import scipy.cluster.hierarchy as sch\n",
        "X = cv.fit_transform(documents_clean).todense()\n",
        "dendrogram = sch.dendrogram(sch.linkage(X, method = 'average',metric='euclidean'),orientation=\"right\")\n",
        "plt.title('Dendrogram')\n",
        "plt.xlabel('Jarak Rerata')\n",
        "plt.ylabel('Nomor Dokumen')\n",
        "plt.show()"
      ],
      "metadata": {
        "colab": {
          "base_uri": "https://localhost:8080/",
          "height": 295
        },
        "id": "TySAmJky1SmO",
        "outputId": "ea9ce8fb-cd5a-4187-ee88-6cd0c6b63b61"
      },
      "execution_count": 24,
      "outputs": [
        {
          "output_type": "display_data",
          "data": {
            "text/plain": [
              "<Figure size 432x288 with 1 Axes>"
            ],
            "image/png": "[encoded data removed]"
          },
          "metadata": {
            "needs_background": "light"
          }
        }
      ]
    }
  ]
}